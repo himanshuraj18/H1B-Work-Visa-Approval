{
  "nbformat": 4,
  "nbformat_minor": 0,
  "metadata": {
    "colab": {
      "name": "ML Project SVM.ipynb",
      "provenance": [],
      "collapsed_sections": []
    },
    "kernelspec": {
      "name": "python3",
      "display_name": "Python 3"
    }
  },
  "cells": [
    {
      "cell_type": "code",
      "metadata": {
        "colab": {
          "base_uri": "https://localhost:8080/"
        },
        "id": "JoexUsLqKSs7",
        "outputId": "530ae9e8-12a6-486e-cc79-eae844b87c2d"
      },
      "source": [
        "from google.colab import drive\n",
        "drive.mount('/content/drive')"
      ],
      "execution_count": 1,
      "outputs": [
        {
          "output_type": "stream",
          "text": [
            "Mounted at /content/drive\n"
          ],
          "name": "stdout"
        }
      ]
    },
    {
      "cell_type": "code",
      "metadata": {
        "id": "D81gtbh_50zK"
      },
      "source": [
        "import pandas as pd\n",
        "import numpy as np\n",
        "from sklearn.naive_bayes import GaussianNB\n",
        "from sklearn.metrics import confusion_matrix\n",
        "from sklearn.linear_model import LogisticRegression\n",
        "from sklearn.ensemble import RandomForestClassifier\n",
        "from sklearn.model_selection import train_test_split\n",
        "from sklearn.model_selection import GridSearchCV, RandomizedSearchCV\n",
        "from sklearn.metrics import classification_report, confusion_matrix,plot_confusion_matrix,plot_roc_curve\n",
        "from sklearn.svm import SVC \n",
        "def sep_X_Y(df):\n",
        "    cols=df.columns\n",
        "    X = df[cols[:-1]].to_numpy()\n",
        "    Y = df[cols[-1]].to_numpy()\n",
        "    return X,Y"
      ],
      "execution_count": 34,
      "outputs": []
    },
    {
      "cell_type": "code",
      "metadata": {
        "colab": {
          "base_uri": "https://localhost:8080/",
          "height": 657
        },
        "id": "NrWdji9g557a",
        "outputId": "0ea1bc3c-46ac-4f56-a59b-c052e2b4c8a0"
      },
      "source": [
        "df = pd.read_csv('/content/drive/My Drive/mkc.csv')\n",
        "X,Y = sep_X_Y(df)\n",
        "\n",
        "X_train, X_test, Y_train, Y_test = train_test_split(X, Y, test_size=0.2, random_state=0, stratify = Y)\n",
        "params = {'C': [0.1*x for x in [1,10,100,1000]],  \n",
        "              'gamma': [0.001*x for x in [1,10,100,1000]], \n",
        "              'kernel': ['rbf','polynomial','sigmoid']} \n",
        "grid = GridSearchCV(SVC(), params, verbose = 10,n_jobs = -1)  \n",
        "grid.fit(X_train, Y_train) \n",
        "print(grid.best_params_) \n",
        "print(grid.best_estimator_)\n"
      ],
      "execution_count": 13,
      "outputs": [
        {
          "output_type": "stream",
          "text": [
            "Fitting 5 folds for each of 48 candidates, totalling 240 fits\n"
          ],
          "name": "stdout"
        },
        {
          "output_type": "stream",
          "text": [
            "[Parallel(n_jobs=-1)]: Using backend LokyBackend with 2 concurrent workers.\n",
            "[Parallel(n_jobs=-1)]: Done   1 tasks      | elapsed:   46.4s\n",
            "[Parallel(n_jobs=-1)]: Done   4 tasks      | elapsed:  1.5min\n",
            "[Parallel(n_jobs=-1)]: Done   9 tasks      | elapsed:  1.5min\n",
            "[Parallel(n_jobs=-1)]: Done  14 tasks      | elapsed:  2.9min\n",
            "[Parallel(n_jobs=-1)]: Done  21 tasks      | elapsed:  4.7min\n",
            "[Parallel(n_jobs=-1)]: Done  28 tasks      | elapsed:  5.6min\n",
            "[Parallel(n_jobs=-1)]: Done  37 tasks      | elapsed:  7.6min\n",
            "[Parallel(n_jobs=-1)]: Done  46 tasks      | elapsed:  9.7min\n",
            "[Parallel(n_jobs=-1)]: Done  57 tasks      | elapsed: 11.6min\n",
            "[Parallel(n_jobs=-1)]: Done  68 tasks      | elapsed: 14.5min\n",
            "[Parallel(n_jobs=-1)]: Done  81 tasks      | elapsed: 19.6min\n",
            "[Parallel(n_jobs=-1)]: Done  94 tasks      | elapsed: 24.8min\n",
            "[Parallel(n_jobs=-1)]: Done 109 tasks      | elapsed: 29.9min\n",
            "[Parallel(n_jobs=-1)]: Done 124 tasks      | elapsed: 35.8min\n",
            "[Parallel(n_jobs=-1)]: Done 141 tasks      | elapsed: 41.1min\n",
            "[Parallel(n_jobs=-1)]: Done 158 tasks      | elapsed: 47.1min\n",
            "[Parallel(n_jobs=-1)]: Done 177 tasks      | elapsed: 55.2min\n",
            "[Parallel(n_jobs=-1)]: Done 196 tasks      | elapsed: 64.6min\n",
            "[Parallel(n_jobs=-1)]: Done 217 tasks      | elapsed: 73.9min\n",
            "[Parallel(n_jobs=-1)]: Done 240 out of 240 | elapsed: 82.6min finished\n"
          ],
          "name": "stderr"
        },
        {
          "output_type": "stream",
          "text": [
            "{'C': 100.0, 'gamma': 0.01, 'kernel': 'rbf'}\n",
            "SVC(C=100.0, break_ties=False, cache_size=200, class_weight=None, coef0=0.0,\n",
            "    decision_function_shape='ovr', degree=3, gamma=0.01, kernel='rbf',\n",
            "    max_iter=-1, probability=False, random_state=None, shrinking=True,\n",
            "    tol=0.001, verbose=False)\n"
          ],
          "name": "stdout"
        },
        {
          "output_type": "error",
          "ename": "NameError",
          "evalue": "ignored",
          "traceback": [
            "\u001b[0;31m---------------------------------------------------------------------------\u001b[0m",
            "\u001b[0;31mNameError\u001b[0m                                 Traceback (most recent call last)",
            "\u001b[0;32m<ipython-input-13-c98fb0a5a93d>\u001b[0m in \u001b[0;36m<module>\u001b[0;34m()\u001b[0m\n\u001b[1;32m     10\u001b[0m \u001b[0mprint\u001b[0m\u001b[0;34m(\u001b[0m\u001b[0mgrid\u001b[0m\u001b[0;34m.\u001b[0m\u001b[0mbest_params_\u001b[0m\u001b[0;34m)\u001b[0m\u001b[0;34m\u001b[0m\u001b[0;34m\u001b[0m\u001b[0m\n\u001b[1;32m     11\u001b[0m \u001b[0mprint\u001b[0m\u001b[0;34m(\u001b[0m\u001b[0mgrid\u001b[0m\u001b[0;34m.\u001b[0m\u001b[0mbest_estimator_\u001b[0m\u001b[0;34m)\u001b[0m\u001b[0;34m\u001b[0m\u001b[0;34m\u001b[0m\u001b[0m\n\u001b[0;32m---> 12\u001b[0;31m \u001b[0mprint\u001b[0m\u001b[0;34m(\u001b[0m\u001b[0mclassification_report\u001b[0m\u001b[0;34m(\u001b[0m\u001b[0mY_test\u001b[0m\u001b[0;34m,\u001b[0m\u001b[0mmodel\u001b[0m\u001b[0;34m.\u001b[0m\u001b[0mpredict\u001b[0m\u001b[0;34m(\u001b[0m\u001b[0mX_test\u001b[0m\u001b[0;34m)\u001b[0m\u001b[0;34m)\u001b[0m\u001b[0;34m)\u001b[0m\u001b[0;34m\u001b[0m\u001b[0;34m\u001b[0m\u001b[0m\n\u001b[0m",
            "\u001b[0;31mNameError\u001b[0m: name 'model' is not defined"
          ]
        }
      ]
    },
    {
      "cell_type": "code",
      "metadata": {
        "colab": {
          "base_uri": "https://localhost:8080/"
        },
        "id": "GeCzPkURS_uX",
        "outputId": "06fd57ae-c532-4b35-e6cf-f4c216039ed6"
      },
      "source": [
        "print(classification_report(Y_test,grid.predict(X_test)))"
      ],
      "execution_count": 16,
      "outputs": [
        {
          "output_type": "stream",
          "text": [
            "              precision    recall  f1-score   support\n",
            "\n",
            "           0       0.74      0.63      0.68      2896\n",
            "           1       0.69      0.78      0.73      3000\n",
            "\n",
            "    accuracy                           0.71      5896\n",
            "   macro avg       0.71      0.71      0.71      5896\n",
            "weighted avg       0.71      0.71      0.71      5896\n",
            "\n"
          ],
          "name": "stdout"
        }
      ]
    },
    {
      "cell_type": "code",
      "metadata": {
        "colab": {
          "base_uri": "https://localhost:8080/"
        },
        "id": "A4-Gfs_QTna-",
        "outputId": "a91a578b-8a50-439f-a9e3-19c3f15313f3"
      },
      "source": [
        "print(classification_report(Y_train,grid.predict(X_train)))"
      ],
      "execution_count": 17,
      "outputs": [
        {
          "output_type": "stream",
          "text": [
            "              precision    recall  f1-score   support\n",
            "\n",
            "           0       0.94      0.97      0.95     11582\n",
            "           1       0.97      0.94      0.95     12000\n",
            "\n",
            "    accuracy                           0.95     23582\n",
            "   macro avg       0.95      0.95      0.95     23582\n",
            "weighted avg       0.95      0.95      0.95     23582\n",
            "\n"
          ],
          "name": "stdout"
        }
      ]
    },
    {
      "cell_type": "code",
      "metadata": {
        "colab": {
          "base_uri": "https://localhost:8080/"
        },
        "id": "7x6PSOAaUOUX",
        "outputId": "5dace02d-bbfb-4c8a-9e87-a3055de5fbde"
      },
      "source": [
        "pd.DataFrame(grid.cv_results_)['mean_test_score']"
      ],
      "execution_count": 25,
      "outputs": [
        {
          "output_type": "execute_result",
          "data": {
            "text/plain": [
              "0     0.568654\n",
              "1          NaN\n",
              "2     0.508863\n",
              "3     0.538462\n",
              "4          NaN\n",
              "5     0.508863\n",
              "6     0.528921\n",
              "7          NaN\n",
              "8     0.508863\n",
              "9     0.514630\n",
              "10         NaN\n",
              "11    0.508863\n",
              "12    0.642185\n",
              "13         NaN\n",
              "14    0.508863\n",
              "15    0.646849\n",
              "16         NaN\n",
              "17    0.508863\n",
              "18    0.645577\n",
              "19         NaN\n",
              "20    0.508863\n",
              "21    0.640107\n",
              "22         NaN\n",
              "23    0.508863\n",
              "24    0.650708\n",
              "25         NaN\n",
              "26    0.508863\n",
              "27    0.678484\n",
              "28         NaN\n",
              "29    0.508863\n",
              "30    0.663684\n",
              "31         NaN\n",
              "32    0.508863\n",
              "33    0.641888\n",
              "34         NaN\n",
              "35    0.508863\n",
              "36    0.687261\n",
              "37         NaN\n",
              "38    0.508863\n",
              "39    0.691714\n",
              "40         NaN\n",
              "41    0.508863\n",
              "42    0.659698\n",
              "43         NaN\n",
              "44    0.508863\n",
              "45    0.642779\n",
              "46         NaN\n",
              "47    0.508863\n",
              "Name: mean_test_score, dtype: float64"
            ]
          },
          "metadata": {
            "tags": []
          },
          "execution_count": 25
        }
      ]
    },
    {
      "cell_type": "code",
      "metadata": {
        "id": "zPBXUru6XWTb"
      },
      "source": [
        "import pickle\n",
        "with open('/content/drive/My Drive/grid_pickle.pkl','wb') as f:\n",
        "    pickle.dump(grid,f)"
      ],
      "execution_count": 26,
      "outputs": []
    },
    {
      "cell_type": "code",
      "metadata": {
        "id": "ilzJGjziXlRp"
      },
      "source": [
        "with open('/content/drive/My Drive/grid_pickle.pkl','rb') as f:\n",
        "    gg = pickle.load(f)"
      ],
      "execution_count": 27,
      "outputs": []
    },
    {
      "cell_type": "code",
      "metadata": {
        "colab": {
          "base_uri": "https://localhost:8080/",
          "height": 279
        },
        "id": "h2oBT_5GXx9u",
        "outputId": "d158761e-7384-42f2-fecb-66fd6de99bb5"
      },
      "source": [
        "import matplotlib.pyplot as plt \n",
        "%matplotlib inline\n",
        "plot_confusion_matrix(grid, X_test, Y_test)\n",
        "plt.show()"
      ],
      "execution_count": 32,
      "outputs": [
        {
          "output_type": "display_data",
          "data": {
            "image/png": "[encoded data removed]",
            "text/plain": [
              "<Figure size 432x288 with 2 Axes>"
            ]
          },
          "metadata": {
            "tags": [],
            "needs_background": "light"
          }
        }
      ]
    },
    {
      "cell_type": "code",
      "metadata": {
        "colab": {
          "base_uri": "https://localhost:8080/",
          "height": 279
        },
        "id": "MJyK6X1JY3HA",
        "outputId": "afbb701c-36e7-4eb9-e877-5f65256171b8"
      },
      "source": [
        "plot_confusion_matrix(grid, X_train, Y_train)\n",
        "plt.show()"
      ],
      "execution_count": 33,
      "outputs": [
        {
          "output_type": "display_data",
          "data": {
            "image/png": "[encoded data removed]",
            "text/plain": [
              "<Figure size 432x288 with 2 Axes>"
            ]
          },
          "metadata": {
            "tags": [],
            "needs_background": "light"
          }
        }
      ]
    },
    {
      "cell_type": "code",
      "metadata": {
        "colab": {
          "base_uri": "https://localhost:8080/",
          "height": 279
        },
        "id": "OPK9zfn6ZGjH",
        "outputId": "132c35ef-234b-4152-e493-b8b2b744c163"
      },
      "source": [
        "plot_roc_curve(grid, X_test, Y_test)\n",
        "plt.show()"
      ],
      "execution_count": 35,
      "outputs": [
        {
          "output_type": "display_data",
          "data": {
            "image/png": "[encoded data removed]",
            "text/plain": [
              "<Figure size 432x288 with 1 Axes>"
            ]
          },
          "metadata": {
            "tags": [],
            "needs_background": "light"
          }
        }
      ]
    },
    {
      "cell_type": "code",
      "metadata": {
        "colab": {
          "base_uri": "https://localhost:8080/",
          "height": 279
        },
        "id": "9PBYcsB3Za55",
        "outputId": "004bbdbe-1030-4896-f4c9-317bd0c6b4a6"
      },
      "source": [
        "plot_roc_curve(grid, X_train, Y_train)\n",
        "plt.show()"
      ],
      "execution_count": 36,
      "outputs": [
        {
          "output_type": "display_data",
          "data": {
            "image/png": "[encoded data removed]",
            "text/plain": [
              "<Figure size 432x288 with 1 Axes>"
            ]
          },
          "metadata": {
            "tags": [],
            "needs_background": "light"
          }
        }
      ]
    },
    {
      "cell_type": "code",
      "metadata": {
        "id": "PUUUxA19Z3wE"
      },
      "source": [
        ""
      ],
      "execution_count": null,
      "outputs": []
    }
  ]
}